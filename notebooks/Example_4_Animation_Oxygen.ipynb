{
 "cells": [
  {
   "cell_type": "markdown",
   "id": "8ffcc73d-56f7-41e3-9d61-e01ab4d8f761",
   "metadata": {},
   "source": [
    "### Example 2 - Animation of Argo BGC fleet over time (Poseidon version)\n",
    "\n",
    "This example shows how to read and manipulate Argo data stored in parquet format. The data are stored across multiple files: we will load into memory only what we need by applying some filters, and we will create an animation showing the growing number of Argo BGC floats.\n",
    "\n",
    "##### Note on parquet files\n",
    "There are several ways to load parquet files in a dataframe in Python, and a few are illustrated in Examples 1 and 2. This notebook uses dask as it is more efficient and optimized to work with larger than memory data.\n",
    "\n",
    "#### Getting started\n",
    "\n",
    "If you haven't already, install the required packages by running `pip install .` at the root of the repository.\n",
    "\n",
    "We also need the dataset! In this example we use the Argo BGC dataset: you can uncomment and run the cell below, or copy-paste the command (without the leading `!`) in your command line."
   ]
  },
  {
   "cell_type": "code",
   "execution_count": null,
   "id": "2053c4bb-94e4-4778-844c-23832930d490",
   "metadata": {},
   "outputs": [],
   "source": [
    "# !download_db -d Argo -t BGC --noqc"
   ]
  },
  {
   "cell_type": "markdown",
   "id": "e24f212c-af6d-495b-b7e6-b97fdfc11b42",
   "metadata": {},
   "source": [
    "We then import the necessary modules and set up the path to the dataset (update the `parquet_dir` variable below if you have specified a different location in the previous cell or have moved the dataset)."
   ]
  },
  {
   "cell_type": "code",
   "execution_count": null,
   "id": "4d0f1b33-cc9b-4b38-9fc1-7880c4083901",
   "metadata": {},
   "outputs": [],
   "source": [
    "# dask\n",
    "import dask\n",
    "import dask.dataframe as dd\n",
    "\n",
    "# modules for visualizations\n",
    "import cartopy\n",
    "import matplotlib.animation\n",
    "import matplotlib.pyplot as plt\n",
    "from matplotlib import colormaps\n",
    "import datetime\n",
    "import numpy as np\n",
    "import pandas as pd\n",
    "import pyarrow.parquet as pq\n",
    "\n",
    "from pprint import pprint\n",
    "\n",
    "# Path to Argo BGC\n",
    "parquet_dir = './CrocoLake/1010_BGC_ARGO-CLOUD-DEV/'\n",
    "# Setting up parquet schema\n",
    "schema = pq.read_schema(parquet_dir+\"_common_metadata\")"
   ]
  },
  {
   "cell_type": "markdown",
   "id": "86f3b16c-18e5-4904-8422-8f17edb48ef9",
   "metadata": {},
   "source": [
    "As we want to visualize the growth of Argo's BGC fleet, all we need to make the animation are the float IDs and geographical and time coordinates.\n",
    "\n",
    "We set this through the `columns` variable in `read_parquet()`, while we set a filter to discard `NaN` values. Note that the pyarrow's syntax cannot explicitly remove non-valid numbers, so we work around this by allowing a number to be inside a very very large range."
   ]
  },
  {
   "cell_type": "code",
   "execution_count": null,
   "id": "80011b83-2c88-4533-83c7-6322b7272bc6",
   "metadata": {},
   "outputs": [],
   "source": [
    "%%time\n",
    "cols = [\"PLATFORM_NUMBER\",\"LATITUDE\",\"LONGITUDE\",\"JULD\"]\n",
    "# filter_coords_time_doxy = [\n",
    "#     (\"JULD\",\">\",reference_time),\n",
    "#     (\"LATITUDE\",\">\",lat0), (\"LATITUDE\",\"<\",lat1),\n",
    "#     (\"LONGITUDE\",\">\",lon0), (\"LONGITUDE\",\"<\",lon1),\n",
    "#     (\"DOXY_ADJUSTED\",\">=\",-1e30),(\"DOXY_ADJUSTED\",\"<=\",+1e30)\n",
    "# ]\n",
    "\n",
    "ddf = dd.read_parquet(\n",
    "    parquet_dir,\n",
    "    engine=\"pyarrow\",\n",
    "    schema=schema,\n",
    "    columns=cols\n",
    ")"
   ]
  },
  {
   "cell_type": "markdown",
   "id": "5dbcee75-41f9-4b78-8142-5a9eed690ba7",
   "metadata": {},
   "source": [
    "It took around 5 seconds to load all the data.\n",
    "\n",
    "We can now make an animation that shows the evolution of the dissolved oxygen measurements over time since the first measurement available, displaying the growth of the Argo BCG fleet."
   ]
  },
  {
   "cell_type": "code",
   "execution_count": null,
   "id": "cedfa10c-373a-4d5f-a999-88fc411ff756",
   "metadata": {},
   "outputs": [],
   "source": [
    "plt.rcParams[\"animation.html\"] = \"jshtml\"\n",
    "plt.rcParams['figure.dpi'] = 150  \n",
    "plt.ioff()\n",
    "\n",
    "# Group by platform number and time, and aggregate by averaging over lat/lon coordinates.\n",
    "# The result is a dataframe ordered by platform number first and time second. For each entry we have the average coordinates.\n",
    "df_grouped = ddf.groupby(['PLATFORM_NUMBER', 'JULD']).agg({\n",
    "    'LATITUDE': 'mean',\n",
    "    'LONGITUDE': 'mean'\n",
    "}).reset_index().compute()\n",
    "\n",
    "# Start and end of animation\n",
    "start_t = df_grouped['JULD'].min()#.compute()\n",
    "end_t = df_grouped['JULD'].max()#.compute()\n",
    "\n",
    "# Setting number of frames for animation\n",
    "nb_frames = 40\n",
    "\n",
    "# Setting values of each time to plot\n",
    "datetime_values = pd.date_range(start=start_t, end=end_t, periods=nb_frames+1).values\n",
    "\n",
    "# Setting up plot\n",
    "proj = cartopy.crs.PlateCarree()\n",
    "fig = plt.figure(figsize=(8, 6), )\n",
    "ax = fig.add_subplot(projection=proj, frameon=False)\n",
    "\n",
    "# Setting up colormap\n",
    "# cbar_min = df[ref_var].quantile(q=0.01).compute()\n",
    "# cbar_max = df[ref_var].quantile(q=0.99)\n",
    "sc = ax.scatter([], [], c=\"yellow\", transform=cartopy.crs.PlateCarree())\n",
    "# cbar = plt.colorbar(sc, ax=ax, fraction=0.02, pad=0.04)\n",
    "# cbar.set_label('micromole/kg')\n",
    "\n",
    "# note that update() is passed the current frame number by FuncAnimation()\n",
    "def update(frame):\n",
    "    plt.cla()\n",
    "    ax.add_feature(cartopy.feature.OCEAN)\n",
    "    ax.add_feature(cartopy.feature.LAND, edgecolor='black')\n",
    "    ax.add_feature(cartopy.feature.LAKES, edgecolor='black')\n",
    "    t_i = datetime_values[frame]\n",
    "    t_ip1 = datetime_values[frame+1]\n",
    "    timestep_df = df_grouped[(df_grouped['JULD'] >= t_i) & (df_grouped['JULD'] <= t_ip1)]\n",
    "    timestep_df = timestep_df.groupby(['PLATFORM_NUMBER']).agg({\n",
    "                                 'LATITUDE': 'mean',\n",
    "                                 'LONGITUDE': 'mean'\n",
    "                                 }).reset_index()#.compute()\n",
    "    ax.scatter(\n",
    "        timestep_df['LONGITUDE'], timestep_df['LATITUDE'],\n",
    "        c=\"yellow\",\n",
    "        s=5,\n",
    "        transform=cartopy.crs.PlateCarree()\n",
    "    )\n",
    "    plt.xlim(-180,180)\n",
    "    plt.ylim(-90,90)\n",
    "    plt.title(\"Argo BGC fleet on \" + np.datetime_as_string(t_ip1, unit='D'))\n",
    "    \n",
    "matplotlib.animation.FuncAnimation(fig, update, frames=nb_frames)"
   ]
  },
  {
   "cell_type": "code",
   "execution_count": null,
   "id": "c8299995-10bf-41aa-8ae4-ee8d3d57a94d",
   "metadata": {},
   "outputs": [],
   "source": []
  }
 ],
 "metadata": {
  "kernelspec": {
   "display_name": "Python 3 (ipykernel)",
   "language": "python",
   "name": "python3"
  },
  "language_info": {
   "codemirror_mode": {
    "name": "ipython",
    "version": 3
   },
   "file_extension": ".py",
   "mimetype": "text/x-python",
   "name": "python",
   "nbconvert_exporter": "python",
   "pygments_lexer": "ipython3",
   "version": "3.12.4"
  }
 },
 "nbformat": 4,
 "nbformat_minor": 5
}
